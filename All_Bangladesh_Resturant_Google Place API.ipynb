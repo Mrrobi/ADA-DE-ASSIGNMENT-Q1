{
 "cells": [
  {
   "cell_type": "markdown",
   "metadata": {},
   "source": [
    "### Get the list of all resturant in Bangladesh using Google Place API\n",
    "* []: # Language: python\n",
    "* []: # Path: All_Bangladesh_Resturant_Google Place API.ipynb\n",
    "\n",
    "### required libraries\n",
    "* pandas\n",
    "* requests\n",
    "* time\n"
   ]
  },
  {
   "cell_type": "code",
   "execution_count": null,
   "metadata": {},
   "outputs": [],
   "source": [
    "# imports\n",
    "import pandas as pd\n",
    "import requests\n",
    "import time\n",
    "# API key\n",
    "API_KEY = 'YOUR-API-KEY'"
   ]
  },
  {
   "cell_type": "markdown",
   "metadata": {},
   "source": [
    "### Get the places of all over Bangladesh from a public source and save it in a csv file for future use.\n",
    "-----------------------------------------------------------------------------------------------------------------------\n",
    "### Thanks To open source github repository for the places name and address."
   ]
  },
  {
   "cell_type": "code",
   "execution_count": 3,
   "metadata": {},
   "outputs": [
    {
     "data": {
      "text/html": [
       "<div>\n",
       "<style scoped>\n",
       "    .dataframe tbody tr th:only-of-type {\n",
       "        vertical-align: middle;\n",
       "    }\n",
       "\n",
       "    .dataframe tbody tr th {\n",
       "        vertical-align: top;\n",
       "    }\n",
       "\n",
       "    .dataframe thead th {\n",
       "        text-align: right;\n",
       "    }\n",
       "</style>\n",
       "<table border=\"1\" class=\"dataframe\">\n",
       "  <thead>\n",
       "    <tr style=\"text-align: right;\">\n",
       "      <th></th>\n",
       "      <th>division</th>\n",
       "      <th>district</th>\n",
       "      <th>subordinate</th>\n",
       "      <th>branch</th>\n",
       "      <th>post_code</th>\n",
       "    </tr>\n",
       "  </thead>\n",
       "  <tbody>\n",
       "    <tr>\n",
       "      <th>1317</th>\n",
       "      <td>Rajshahi</td>\n",
       "      <td>Sirajganj</td>\n",
       "      <td>Sirajganj Sadar</td>\n",
       "      <td>Rashidabad</td>\n",
       "      <td>6702</td>\n",
       "    </tr>\n",
       "    <tr>\n",
       "      <th>348</th>\n",
       "      <td>Dhaka</td>\n",
       "      <td>Jamalpur</td>\n",
       "      <td>Dewangonj</td>\n",
       "      <td>Dewangonj</td>\n",
       "      <td>2030</td>\n",
       "    </tr>\n",
       "    <tr>\n",
       "      <th>623</th>\n",
       "      <td>Chattagram</td>\n",
       "      <td>Chittagong</td>\n",
       "      <td>Rouzan</td>\n",
       "      <td>Fatepur</td>\n",
       "      <td>4345</td>\n",
       "    </tr>\n",
       "    <tr>\n",
       "      <th>572</th>\n",
       "      <td>Chattagram</td>\n",
       "      <td>Chittagong</td>\n",
       "      <td>Chittagong Sadar</td>\n",
       "      <td>Chitt. Sailers Colon</td>\n",
       "      <td>4218</td>\n",
       "    </tr>\n",
       "    <tr>\n",
       "      <th>507</th>\n",
       "      <td>Chattagram</td>\n",
       "      <td>Noakhali</td>\n",
       "      <td>Noakhali Sadar</td>\n",
       "      <td>Noakhali Sadar</td>\n",
       "      <td>3800</td>\n",
       "    </tr>\n",
       "  </tbody>\n",
       "</table>\n",
       "</div>"
      ],
      "text/plain": [
       "        division    district       subordinate                branch post_code\n",
       "1317    Rajshahi   Sirajganj   Sirajganj Sadar            Rashidabad      6702\n",
       "348        Dhaka    Jamalpur         Dewangonj             Dewangonj      2030\n",
       "623   Chattagram  Chittagong            Rouzan               Fatepur      4345\n",
       "572   Chattagram  Chittagong  Chittagong Sadar  Chitt. Sailers Colon      4218\n",
       "507   Chattagram    Noakhali    Noakhali Sadar        Noakhali Sadar      3800"
      ]
     },
     "execution_count": 3,
     "metadata": {},
     "output_type": "execute_result"
    }
   ],
   "source": [
    "# get places from places.csv\n",
    "places = pd.read_csv('places.csv')\n",
    "places.sample(5)\n",
    "\n",
    "# @credit: https://github.com/ittahad/BDLocations\n"
   ]
  },
  {
   "cell_type": "code",
   "execution_count": 4,
   "metadata": {},
   "outputs": [],
   "source": [
    "# Table headings\n",
    "keys = ['name','latitude','longitude','rating','number of reviews','affluence']\n"
   ]
  },
  {
   "cell_type": "code",
   "execution_count": 5,
   "metadata": {},
   "outputs": [],
   "source": [
    "# function to extract name from the place result send None if not found\n",
    "def getname(res):\n",
    "    try:\n",
    "        return res['name']\n",
    "    except:\n",
    "        return None"
   ]
  },
  {
   "cell_type": "code",
   "execution_count": 6,
   "metadata": {},
   "outputs": [],
   "source": [
    "# function to extract latitude and longtitude from the place result send None if not found\n",
    "def getlatlon(dic):\n",
    "    try:\n",
    "        lat = dic['geometry']['location']['lat']\n",
    "        lon = dic['geometry']['location']['lng']\n",
    "        return lat, lon\n",
    "    except:\n",
    "        return None, None"
   ]
  },
  {
   "cell_type": "code",
   "execution_count": 7,
   "metadata": {},
   "outputs": [],
   "source": [
    "# function to extract rating from the place result send None if not found\n",
    "def getrating(dic):\n",
    "    try:\n",
    "        rating = dic['rating']\n",
    "        return rating\n",
    "    except:\n",
    "        return None"
   ]
  },
  {
   "cell_type": "code",
   "execution_count": 8,
   "metadata": {},
   "outputs": [],
   "source": [
    "# function to extract user_rating_count from the place result send None if not found\n",
    "def getuser_ratings_total(dic):\n",
    "    try:\n",
    "        user_ratings_total = dic['user_ratings_total']\n",
    "        return user_ratings_total\n",
    "    except:\n",
    "        return None"
   ]
  },
  {
   "cell_type": "code",
   "execution_count": 9,
   "metadata": {},
   "outputs": [],
   "source": [
    "# function to extract Price_level/affluence from the place result send None if not found\n",
    "def getprice_level(dic):\n",
    "    try:\n",
    "        price_level = dic['price_level']\n",
    "        indollarsign = \"$\"*int(price_level)\n",
    "        return indollarsign\n",
    "    except:\n",
    "        return None"
   ]
  },
  {
   "cell_type": "code",
   "execution_count": 10,
   "metadata": {},
   "outputs": [],
   "source": [
    "# function to get the data from the response result\n",
    "def get_data(results):\n",
    "    # add the data to the dataframe\n",
    "    df = pd.DataFrame(columns=keys)\n",
    "    for i in range(len(results)):\n",
    "        dic = results[i]\n",
    "        name = getname(dic)\n",
    "        lat, lon = getlatlon(dic)\n",
    "        rating = getrating(dic)\n",
    "        user_ratings_total = getuser_ratings_total(dic)\n",
    "        price_level = getprice_level(dic)\n",
    "        # add the data to the dataframe\n",
    "        df.loc[i] = [name, lat, lon, rating, user_ratings_total, price_level]\n",
    "    return df"
   ]
  },
  {
   "cell_type": "markdown",
   "metadata": {},
   "source": [
    "### Google place api return maximum 20 search result. So, we need to use pagination. Still only 60 total results can be returned."
   ]
  },
  {
   "cell_type": "code",
   "execution_count": 11,
   "metadata": {},
   "outputs": [],
   "source": [
    "def fetchdata(location):\n",
    "    # function to fetch data from google place api\n",
    "    url = f'''\n",
    "    https://maps.googleapis.com/maps/api/place/textsearch/json?query=restaurants in {location}&type=restaurant&key={API_KEY}'''\n",
    "    payload={}\n",
    "    headers = {}\n",
    "    response = requests.request(\"GET\", url, headers=headers, data=payload)\n",
    "    # string to dict\n",
    "    res = response.json()\n",
    "    return res\n",
    "\n",
    "def fetchnextpage(nextpage_token):\n",
    "    # function to fetch next page data from google place api using nextpage_token\n",
    "    url = f'''\n",
    "    https://maps.googleapis.com/maps/api/place/textsearch/json?pagetoken={nextpage_token}&key={API_KEY}'''\n",
    "    payload={}\n",
    "    headers = {}\n",
    "    response = requests.request(\"GET\", url, headers=headers, data=payload)\n",
    "    # string to dict\n",
    "    res = response.json()\n",
    "    return res"
   ]
  },
  {
   "cell_type": "code",
   "execution_count": 12,
   "metadata": {},
   "outputs": [],
   "source": [
    "# declare the dataframe\n",
    "df = pd.DataFrame(columns=keys)"
   ]
  },
  {
   "cell_type": "code",
   "execution_count": 13,
   "metadata": {},
   "outputs": [],
   "source": [
    "def crawl(location):\n",
    "    global df\n",
    "    # start the crawler\n",
    "    res = fetchdata(location)\n",
    "    # create a dataframe\n",
    "    temp_df = get_data(res['results'])\n",
    "    df = df.append(temp_df)\n",
    "    time.sleep(5)\n",
    "    for x in range(3):\n",
    "        try:\n",
    "            res = fetchnextpage(res['next_page_token'])\n",
    "            temp_df = get_data(res['results'])\n",
    "            df = df.append(temp_df)\n",
    "            df.reset_index(drop=True, inplace=True)\n",
    "            time.sleep(5)\n",
    "        except Exception as e:\n",
    "            # print(e)\n",
    "            break"
   ]
  },
  {
   "cell_type": "code",
   "execution_count": null,
   "metadata": {},
   "outputs": [],
   "source": [
    "for i in range(len(places)):\n",
    "# for i in range(10):\n",
    "    location = places.iloc[i]['branch']+', '+places.iloc[i]['subordinate']+', '+places.iloc[i]['district']+', '+places.iloc[i]['division']\n",
    "    # print(location)\n",
    "    crawl(location)\n",
    "    # print(df.shape)"
   ]
  },
  {
   "cell_type": "code",
   "execution_count": 17,
   "metadata": {},
   "outputs": [],
   "source": [
    "# drop the duplicates based on the name and lat and lon\n",
    "df.drop_duplicates(subset=['name','lat','lng'], inplace=True, keep='first', ignore_index=True)\n"
   ]
  },
  {
   "cell_type": "code",
   "execution_count": 19,
   "metadata": {},
   "outputs": [],
   "source": [
    "df.to_csv('restaurant_data.csv', index=False)"
   ]
  }
 ],
 "metadata": {
  "interpreter": {
   "hash": "0dcbc27e974947f466df9120e37dafebaf0b1cdc9802f3d29013b89f9754b681"
  },
  "kernelspec": {
   "display_name": "Python 3.8.6 64-bit",
   "language": "python",
   "name": "python3"
  },
  "language_info": {
   "codemirror_mode": {
    "name": "ipython",
    "version": 3
   },
   "file_extension": ".py",
   "mimetype": "text/x-python",
   "name": "python",
   "nbconvert_exporter": "python",
   "pygments_lexer": "ipython3",
   "version": "3.8.6"
  },
  "orig_nbformat": 4
 },
 "nbformat": 4,
 "nbformat_minor": 2
}
