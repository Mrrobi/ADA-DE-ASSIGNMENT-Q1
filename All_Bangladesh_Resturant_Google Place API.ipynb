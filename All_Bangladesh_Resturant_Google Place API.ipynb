{
 "cells": [
  {
   "cell_type": "markdown",
   "metadata": {},
   "source": [
    "### Get the list of all resturant in Bangladesh using Google Place API\n",
    "* []: # Language: python\n",
    "* []: # Path: All_Bangladesh_Resturant_Google Place API.ipynb\n",
    "\n",
    "### required libraries\n",
    "* pandas\n",
    "* requests\n",
    "* time\n"
   ]
  },
  {
   "cell_type": "code",
   "execution_count": 1,
   "metadata": {},
   "outputs": [
    {
     "name": "stderr",
     "output_type": "stream",
     "text": [
      "C:\\Users\\h\\AppData\\Local\\Programs\\Python\\Python38\\lib\\site-packages\\setuptools\\distutils_patch.py:25: UserWarning: Distutils was imported before Setuptools. This usage is discouraged and may exhibit undesirable behaviors or errors. Please use Setuptools' objects directly or at least import Setuptools first.\n",
      "  warnings.warn(\n"
     ]
    }
   ],
   "source": [
    "# imports\n",
    "import pandas as pd\n",
    "import requests\n",
    "import time\n",
    "# API key\n",
    "API_KEY = 'YOUR_API_KEY'"
   ]
  },
  {
   "cell_type": "markdown",
   "metadata": {},
   "source": [
    "### Get the places of all over Bangladesh from a public source and save it in a csv file for future use.\n",
    "-----------------------------------------------------------------------------------------------------------------------\n",
    "### Thanks To open source github repository for the places name and address."
   ]
  },
  {
   "cell_type": "code",
   "execution_count": 2,
   "metadata": {},
   "outputs": [
    {
     "data": {
      "text/html": [
       "<div>\n",
       "<style scoped>\n",
       "    .dataframe tbody tr th:only-of-type {\n",
       "        vertical-align: middle;\n",
       "    }\n",
       "\n",
       "    .dataframe tbody tr th {\n",
       "        vertical-align: top;\n",
       "    }\n",
       "\n",
       "    .dataframe thead th {\n",
       "        text-align: right;\n",
       "    }\n",
       "</style>\n",
       "<table border=\"1\" class=\"dataframe\">\n",
       "  <thead>\n",
       "    <tr style=\"text-align: right;\">\n",
       "      <th></th>\n",
       "      <th>division</th>\n",
       "      <th>district</th>\n",
       "      <th>subordinate</th>\n",
       "      <th>branch</th>\n",
       "      <th>post_code</th>\n",
       "    </tr>\n",
       "  </thead>\n",
       "  <tbody>\n",
       "    <tr>\n",
       "      <th>540</th>\n",
       "      <td>Chattagram</td>\n",
       "      <td>Feni</td>\n",
       "      <td>Sonagazi</td>\n",
       "      <td>Sonagazi</td>\n",
       "      <td>3930</td>\n",
       "    </tr>\n",
       "    <tr>\n",
       "      <th>72</th>\n",
       "      <td>Mymensingh</td>\n",
       "      <td>Mymensingh</td>\n",
       "      <td>Mymensingh Sadar</td>\n",
       "      <td>Pearpur</td>\n",
       "      <td>2205</td>\n",
       "    </tr>\n",
       "    <tr>\n",
       "      <th>1132</th>\n",
       "      <td>Rajshahi</td>\n",
       "      <td>Nilphamari</td>\n",
       "      <td>Dimla</td>\n",
       "      <td>Ghaga Kharibari</td>\n",
       "      <td>5351</td>\n",
       "    </tr>\n",
       "    <tr>\n",
       "      <th>989</th>\n",
       "      <td>Barishal</td>\n",
       "      <td>Barishal</td>\n",
       "      <td>Babuganj</td>\n",
       "      <td>Barishal Cadet</td>\n",
       "      <td>8216</td>\n",
       "    </tr>\n",
       "    <tr>\n",
       "      <th>359</th>\n",
       "      <td>Dhaka</td>\n",
       "      <td>Jamalpur</td>\n",
       "      <td>Malandah</td>\n",
       "      <td>Mahmoodpur</td>\n",
       "      <td>2013</td>\n",
       "    </tr>\n",
       "  </tbody>\n",
       "</table>\n",
       "</div>"
      ],
      "text/plain": [
       "        division    district       subordinate           branch post_code\n",
       "540   Chattagram        Feni          Sonagazi         Sonagazi      3930\n",
       "72    Mymensingh  Mymensingh  Mymensingh Sadar          Pearpur      2205\n",
       "1132    Rajshahi  Nilphamari             Dimla  Ghaga Kharibari      5351\n",
       "989     Barishal    Barishal          Babuganj   Barishal Cadet      8216\n",
       "359        Dhaka    Jamalpur          Malandah       Mahmoodpur      2013"
      ]
     },
     "execution_count": 2,
     "metadata": {},
     "output_type": "execute_result"
    }
   ],
   "source": [
    "# get places from places.csv\n",
    "places = pd.read_csv('places.csv')\n",
    "places.sample(5)\n",
    "\n",
    "# @credit: https://github.com/ittahad/BDLocations\n"
   ]
  },
  {
   "cell_type": "code",
   "execution_count": 3,
   "metadata": {},
   "outputs": [],
   "source": [
    "# Table headings\n",
    "keys = ['name','latitude','longitude','rating','number of reviews','affluence']\n"
   ]
  },
  {
   "cell_type": "code",
   "execution_count": 4,
   "metadata": {},
   "outputs": [],
   "source": [
    "# function to extract name from the place result send None if not found\n",
    "def getname(res):\n",
    "    try:\n",
    "        return res['name']\n",
    "    except:\n",
    "        return None"
   ]
  },
  {
   "cell_type": "code",
   "execution_count": 5,
   "metadata": {},
   "outputs": [],
   "source": [
    "# function to extract latitude and longtitude from the place result send None if not found\n",
    "def getlatlon(dic):\n",
    "    try:\n",
    "        lat = dic['geometry']['location']['lat']\n",
    "        lon = dic['geometry']['location']['lng']\n",
    "        return lat, lon\n",
    "    except:\n",
    "        return None, None"
   ]
  },
  {
   "cell_type": "code",
   "execution_count": 6,
   "metadata": {},
   "outputs": [],
   "source": [
    "# function to extract rating from the place result send None if not found\n",
    "def getrating(dic):\n",
    "    try:\n",
    "        rating = dic['rating']\n",
    "        return rating\n",
    "    except:\n",
    "        return None"
   ]
  },
  {
   "cell_type": "code",
   "execution_count": 7,
   "metadata": {},
   "outputs": [],
   "source": [
    "# function to extract user_rating_count from the place result send None if not found\n",
    "def getuser_ratings_total(dic):\n",
    "    try:\n",
    "        user_ratings_total = dic['user_ratings_total']\n",
    "        return user_ratings_total\n",
    "    except:\n",
    "        return None"
   ]
  },
  {
   "cell_type": "code",
   "execution_count": 8,
   "metadata": {},
   "outputs": [],
   "source": [
    "# function to extract Price_level/affluence from the place result send None if not found\n",
    "def getprice_level(dic):\n",
    "    try:\n",
    "        price_level = dic['price_level']\n",
    "        indollarsign = \"$\"*int(price_level)\n",
    "        return indollarsign\n",
    "    except:\n",
    "        return None"
   ]
  },
  {
   "cell_type": "code",
   "execution_count": 9,
   "metadata": {},
   "outputs": [],
   "source": [
    "# function to get the data from the response result\n",
    "def get_data(results):\n",
    "    # add the data to the dataframe\n",
    "    df = pd.DataFrame(columns=keys)\n",
    "    for i in range(len(results)):\n",
    "        dic = results[i]\n",
    "        name = getname(dic)\n",
    "        lat, lon = getlatlon(dic)\n",
    "        rating = getrating(dic)\n",
    "        user_ratings_total = getuser_ratings_total(dic)\n",
    "        price_level = getprice_level(dic)\n",
    "        # add the data to the dataframe\n",
    "        df.loc[i] = [name, lat, lon, rating, user_ratings_total, price_level]\n",
    "    return df"
   ]
  },
  {
   "cell_type": "markdown",
   "metadata": {},
   "source": [
    "### Google place api return maximum 20 search result. So, we need to use pagination. Still only 60 total results can be returned."
   ]
  },
  {
   "cell_type": "code",
   "execution_count": 10,
   "metadata": {},
   "outputs": [],
   "source": [
    "def fetchdata(location):\n",
    "    # function to fetch data from google place api\n",
    "    url = f'''\n",
    "    https://maps.googleapis.com/maps/api/place/textsearch/json?query=restaurants in {location}&type=restaurant&key={API_KEY}'''\n",
    "    payload={}\n",
    "    headers = {}\n",
    "    response = requests.request(\"GET\", url, headers=headers, data=payload)\n",
    "    # string to dict\n",
    "    res = response.json()\n",
    "    return res\n",
    "\n",
    "def fetchnextpage(nextpage_token):\n",
    "    # function to fetch next page data from google place api using nextpage_token\n",
    "    url = f'''\n",
    "    https://maps.googleapis.com/maps/api/place/textsearch/json?pagetoken={nextpage_token}&key={API_KEY}'''\n",
    "    payload={}\n",
    "    headers = {}\n",
    "    response = requests.request(\"GET\", url, headers=headers, data=payload)\n",
    "    # string to dict\n",
    "    res = response.json()\n",
    "    return res"
   ]
  },
  {
   "cell_type": "code",
   "execution_count": 11,
   "metadata": {},
   "outputs": [],
   "source": [
    "# declare the dataframe\n",
    "df = pd.DataFrame(columns=keys)"
   ]
  },
  {
   "cell_type": "code",
   "execution_count": 12,
   "metadata": {},
   "outputs": [],
   "source": [
    "def crawl(location):\n",
    "    global df\n",
    "    # start the crawler\n",
    "    res = fetchdata(location)\n",
    "    # create a dataframe\n",
    "    temp_df = get_data(res['results'])\n",
    "    df = df.append(temp_df)\n",
    "    for x in range(3):\n",
    "        try:\n",
    "            time.sleep(5)\n",
    "            res = fetchnextpage(res['next_page_token'])\n",
    "            temp_df = get_data(res['results'])\n",
    "            df = df.append(temp_df)\n",
    "            df.reset_index(drop=True, inplace=True)\n",
    "            \n",
    "        except Exception as e:\n",
    "            # print(e)\n",
    "            break"
   ]
  },
  {
   "cell_type": "code",
   "execution_count": 13,
   "metadata": {},
   "outputs": [],
   "source": [
    "# for i in range(len(places)):\n",
    "for i in range(100):\n",
    "    location = places.iloc[i]['branch']+', '+places.iloc[i]['subordinate']+', '+places.iloc[i]['district']+', '+places.iloc[i]['division']\n",
    "    # print(location)\n",
    "    crawl(location)\n",
    "    # print(df.shape)"
   ]
  },
  {
   "cell_type": "code",
   "execution_count": 15,
   "metadata": {},
   "outputs": [],
   "source": [
    "# drop the duplicates based on the name and lat and lon\n",
    "df.drop_duplicates(subset=['name','latitude','longitude'], inplace=True, keep='first', ignore_index=True)\n"
   ]
  },
  {
   "cell_type": "code",
   "execution_count": 16,
   "metadata": {},
   "outputs": [],
   "source": [
    "df.to_csv('restaurant_data.csv', index=False)"
   ]
  }
 ],
 "metadata": {
  "interpreter": {
   "hash": "0dcbc27e974947f466df9120e37dafebaf0b1cdc9802f3d29013b89f9754b681"
  },
  "kernelspec": {
   "display_name": "Python 3.8.6 64-bit",
   "language": "python",
   "name": "python3"
  },
  "language_info": {
   "codemirror_mode": {
    "name": "ipython",
    "version": 3
   },
   "file_extension": ".py",
   "mimetype": "text/x-python",
   "name": "python",
   "nbconvert_exporter": "python",
   "pygments_lexer": "ipython3",
   "version": "3.8.6"
  },
  "orig_nbformat": 4
 },
 "nbformat": 4,
 "nbformat_minor": 2
}
